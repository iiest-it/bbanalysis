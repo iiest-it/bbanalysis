{
 "cells": [
  {
   "cell_type": "code",
   "execution_count": 108,
   "metadata": {},
   "outputs": [],
   "source": [
    "import pandas as pd\n",
    "import numpy as np\n",
    "from scipy.spatial import Voronoi, voronoi_plot_2d\n",
    "%matplotlib inline"
   ]
  },
  {
   "cell_type": "code",
   "execution_count": 109,
   "metadata": {},
   "outputs": [],
   "source": [
    "import matplotlib.pyplot as plt\n",
    "from matplotlib.patches import Circle, Rectangle, Arc, CirclePolygon\n",
    "\n",
    "def draw_court(ax=None, color='black', lw=2, outer_lines=False):\n",
    "    if ax is None:\n",
    "        ax = plt.gca()\n",
    "    hoop = Circle((4, 25), radius=.75, linewidth=lw, color=color, fill=False)\n",
    "    backboard = Rectangle((4, 22), -.5, 6, linewidth=lw, color=color)\n",
    "    outer_box = Rectangle((0, 17), 18, 16, linewidth=lw, color=color,\n",
    "                          fill=False)\n",
    "    top_free_throw = CirclePolygon((19, 25), radius=5.5, linewidth=lw, color=color, fill=False)\n",
    "    corner_three_a = Rectangle((0, 3), 14, 0, linewidth=lw,color=color)\n",
    "    corner_three_b = Rectangle((0, 47), 14, 0, linewidth=lw,color=color)\n",
    "    three_arc = Arc((4, 25), 47.5, 47.5, theta1=-68, theta2=68, linewidth=lw, color=color)\n",
    "    court_elements = [hoop, backboard, outer_box, top_free_throw, corner_three_a, corner_three_b, three_arc]\n",
    "    if outer_lines:\n",
    "        outer_lines = Rectangle((0,0), 50, 50, linewidth=lw,\n",
    "                                color=color, fill=False)\n",
    "        court_elements.append(outer_lines)\n",
    "    for element in court_elements:\n",
    "        ax.add_patch(element)\n",
    "    return ax"
   ]
  },
  {
   "cell_type": "code",
   "execution_count": 110,
   "metadata": {},
   "outputs": [],
   "source": [
    "import matplotlib\n",
    "matplotlib.rcParams['figure.figsize'] = [10, 10]"
   ]
  },
  {
   "cell_type": "code",
   "execution_count": 111,
   "metadata": {},
   "outputs": [
    {
     "data": {
      "image/png": "[encoded data removed]",
      "text/plain": [
       "<matplotlib.figure.Figure at 0x7f725887d9e8>"
      ]
     },
     "metadata": {},
     "output_type": "display_data"
    }
   ],
   "source": [
    "plt.figure()\n",
    "draw_court(color='#ffdd99',outer_lines=True)\n",
    "plt.xlim(0,50)\n",
    "plt.ylim(0,50)\n",
    "plt.show() "
   ]
  },
  {
   "cell_type": "code",
   "execution_count": 112,
   "metadata": {},
   "outputs": [],
   "source": [
    "import json\n",
    "with open('0021500495.json') as f:\n",
    "    gm=json.load(f)"
   ]
  },
  {
   "cell_type": "code",
   "execution_count": 113,
   "metadata": {},
   "outputs": [],
   "source": [
    "moments=gm['events'][5]['moments']"
   ]
  },
  {
   "cell_type": "code",
   "execution_count": 114,
   "metadata": {},
   "outputs": [],
   "source": [
    "teams=[moments[0][5][1][0], moments[0][5][6][0]]"
   ]
  },
  {
   "cell_type": "code",
   "execution_count": 115,
   "metadata": {},
   "outputs": [],
   "source": [
    "lst = []\n",
    "for i in (range(len(moments))):\n",
    "    all_in_same = True\n",
    "    smaller_half = (moments[i][5][1][2] > 47)\n",
    "    for j in range(1,11):\n",
    "        if (moments[i][5][j][2] > 47) != smaller_half:\n",
    "            all_in_same = False\n",
    "            break\n",
    "    if all_in_same:\n",
    "        lst.append(i)"
   ]
  },
  {
   "cell_type": "code",
   "execution_count": 116,
   "metadata": {},
   "outputs": [],
   "source": [
    "def get_player_positions(moment):\n",
    "    x=[x[2] for x in moment[5][1:]]\n",
    "    y=[x[3] for x in moment[5][1:]]\n",
    "    return x, y"
   ]
  },
  {
   "cell_type": "code",
   "execution_count": 117,
   "metadata": {},
   "outputs": [],
   "source": [
    "def get_frame(moment):\n",
    "    frame={}\n",
    "    frame[moment[5][1][0]]=[(x[2], x[3], x[1]) for x in moment[5][1:6]]\n",
    "    frame[moment[5][6][0]]=[(x[2], x[3], x[1]) for x in moment[5][6:]]\n",
    "    frame['ball']=[moment[5][0][2], moment[5][0][3]]\n",
    "    return frame"
   ]
  },
  {
   "cell_type": "code",
   "execution_count": 154,
   "metadata": {},
   "outputs": [],
   "source": [
    "frame_data=get_frame(moments[100])"
   ]
  },
  {
   "cell_type": "code",
   "execution_count": 155,
   "metadata": {},
   "outputs": [
    {
     "data": {
      "text/plain": [
       "{1610612738: [(23.98504, 17.76193, 101161),\n",
       "  (28.47838, 28.55661, 202738),\n",
       "  (28.6877, 15.19659, 202340),\n",
       "  (8.00598, 3.25564, 203109),\n",
       "  (11.34649, 30.91707, 203096)],\n",
       " 1610612751: [(8.46479, 16.07909, 2207),\n",
       "  (18.51383, 33.02512, 101127),\n",
       "  (9.21186, 30.44531, 201152),\n",
       "  (13.85767, 26.53368, 201572),\n",
       "  (21.11921, 23.16169, 202711)],\n",
       " 'ball': [11.9951, 29.52836]}"
      ]
     },
     "execution_count": 155,
     "metadata": {},
     "output_type": "execute_result"
    }
   ],
   "source": [
    "frame_data"
   ]
  },
  {
   "cell_type": "code",
   "execution_count": 156,
   "metadata": {},
   "outputs": [],
   "source": [
    "from itertools import product\n",
    "players = [frame_data[team][j][2] for team,j in product(teams, range(5))]"
   ]
  },
  {
   "cell_type": "code",
   "execution_count": 157,
   "metadata": {},
   "outputs": [],
   "source": [
    "def ds2points(frame_data, teams):\n",
    "    points = np.zeros((10, 2))\n",
    "    for i,team in enumerate(teams):\n",
    "        for j in range(5):\n",
    "            points[5*i+j,0] = frame_data[team][j][0]\n",
    "            points[5*i+j,1] = frame_data[team][j][1]\n",
    "    return points\n",
    "points = ds2points(frame_data, teams)"
   ]
  },
  {
   "cell_type": "code",
   "execution_count": 158,
   "metadata": {},
   "outputs": [],
   "source": [
    "weight_func = lambda x: 1.0 / (1.0 + x)"
   ]
  },
  {
   "cell_type": "code",
   "execution_count": 159,
   "metadata": {},
   "outputs": [],
   "source": [
    "from scipy.spatial import cKDTree\n",
    "import generate_spot_values as gen\n",
    "\n",
    "players = []\n",
    "for team in teams:\n",
    "    for i in range(5):\n",
    "        players.append(frame_data[team][i][2])\n",
    "\n",
    "def get_all_value(players, points, teams, frame_data):\n",
    "    grid_centers, grid_vals = gen.get_midpoints_and_values()\n",
    "    player_value_orig_lst = {}\n",
    "    vor_points = ds2points(frame_data, teams)\n",
    "    kdtree_orig = cKDTree(points)\n",
    "    for player in players:\n",
    "        player_value_orig_lst[player] = []\n",
    "\n",
    "    for i in range(10):\n",
    "        for j in range(10):\n",
    "            center = grid_centers[i][j]\n",
    "            test_point_dist, test_point_regions = kdtree_orig.query(np.array(center).reshape((1,2)), k=1)\n",
    "            player = players[test_point_regions[0]]\n",
    "            player_value_orig_lst[player].append((i,j,test_point_dist[0]))\n",
    "    player_val_orig = {}\n",
    "    for player in players:\n",
    "        player_val_orig[player] = 0\n",
    "\n",
    "    for player in players:\n",
    "        for spot_i, spot_j, spot_dist in player_value_orig_lst[player]:\n",
    "            player_val_orig[player] += weight_func(spot_dist) * grid_vals[spot_i][spot_j]\n",
    "            \n",
    "    return player_val_orig"
   ]
  },
  {
   "cell_type": "code",
   "execution_count": 160,
   "metadata": {},
   "outputs": [
    {
     "data": {
      "text/plain": [
       "{2207: 60.30998836520699,\n",
       " 101127: 66.22540712250391,\n",
       " 101161: 40.114758515069056,\n",
       " 201152: 54.26269113988754,\n",
       " 201572: 36.01767749105896,\n",
       " 202340: 79.53915917529508,\n",
       " 202711: 31.99530065704159,\n",
       " 202738: 87.27178645573962,\n",
       " 203096: 20.69309265242798,\n",
       " 203109: 74.46271345559596}"
      ]
     },
     "execution_count": 160,
     "metadata": {},
     "output_type": "execute_result"
    }
   ],
   "source": [
    "player_val_orig = get_all_value(players, points, teams, frame_data)\n",
    "player_val_orig"
   ]
  },
  {
   "cell_type": "code",
   "execution_count": 161,
   "metadata": {},
   "outputs": [],
   "source": [
    "def get_player_team(player, teams, frame_data):\n",
    "    for team in teams:\n",
    "        for i in range(len(frame_data[team])):\n",
    "            if frame_data[team][i][2] == player:\n",
    "                return team\n",
    "            \n",
    "def get_other_team(player, teams, frame_data):\n",
    "    player_team = get_player_team(player, teams, frame_data)\n",
    "    return [t for t in teams if t!=player_team][0]"
   ]
  },
  {
   "cell_type": "code",
   "execution_count": 162,
   "metadata": {},
   "outputs": [
    {
     "data": {
      "text/plain": [
       "[101161, 202738, 202340, 203109, 203096, 2207, 101127, 201152, 201572, 202711]"
      ]
     },
     "execution_count": 162,
     "metadata": {},
     "output_type": "execute_result"
    }
   ],
   "source": [
    "players"
   ]
  },
  {
   "cell_type": "code",
   "execution_count": 163,
   "metadata": {},
   "outputs": [],
   "source": [
    "out_player = 203109\n",
    "out_player_idx = players.index(out_player)\n",
    "\n",
    "team_4 = get_player_team(out_player, teams, frame_data)\n",
    "team_5 = get_other_team(out_player, teams, frame_data)"
   ]
  },
  {
   "cell_type": "code",
   "execution_count": 164,
   "metadata": {},
   "outputs": [],
   "source": [
    "from scipy.spatial import cKDTree\n",
    "from functools import reduce\n",
    "\n",
    "def get_leave1out_value(players, points, teams, frame_data, out_index):\n",
    "    points = points[[x for x in range(10) if x!=out_index],:]\n",
    "    grid_centers, grid_vals = gen.get_midpoints_and_values()\n",
    "    player_value_orig_lst = {}\n",
    "    vor_points = ds2points(frame_data, teams)\n",
    "    kdtree_orig = cKDTree(points)\n",
    "    for player in players:\n",
    "        player_value_orig_lst[player] = []\n",
    "\n",
    "    for i in range(10):\n",
    "        for j in range(10):\n",
    "            center = grid_centers[i][j]\n",
    "            test_point_dist, test_point_regions = kdtree_orig.query(np.array(center).reshape((1,2)), k=1)\n",
    "            if test_point_regions[0] >= out_index:\n",
    "                test_point_regions[0] += 1\n",
    "            player = players[test_point_regions[0]]\n",
    "            \n",
    "            player_value_orig_lst[player].append((i,j,test_point_dist[0]))\n",
    "\n",
    "    player_val_orig = {}\n",
    "    for player in players:\n",
    "        player_val_orig[player] = 0\n",
    "\n",
    "    for player in players:\n",
    "        for spot_i, spot_j, spot_dist in player_value_orig_lst[player]:\n",
    "            player_val_orig[player] += weight_func(spot_dist) * grid_vals[spot_i][spot_j]\n",
    "    out_player = players[out_index]\n",
    "    player_val_orig[out_player] = 0\n",
    "    return player_val_orig"
   ]
  },
  {
   "cell_type": "code",
   "execution_count": 165,
   "metadata": {},
   "outputs": [],
   "source": [
    "def value_of_player(players, points, teams, frame_data, out_player):\n",
    "    out_index = players.index(out_player)\n",
    "    player2team = {}\n",
    "    for player in players:\n",
    "        player2team[player] = get_player_team(player, teams, frame_data)\n",
    "\n",
    "    team4 = get_player_team(out_player, teams, frame_data)\n",
    "    team5 = get_other_team(out_player, teams, frame_data)\n",
    "    val_orig = get_all_value(players, points, teams, frame_data)\n",
    "    val_out  = get_leave1out_value(players, points, teams, frame_data, out_index)\n",
    "    \n",
    "    val_team_orig = {}\n",
    "    val_team_out = {}\n",
    "    for player in val_orig:\n",
    "        his_team = player2team[player]\n",
    "        if his_team not in val_team_orig:\n",
    "            val_team_orig[his_team] = val_orig[player]\n",
    "        else:\n",
    "            val_team_orig[his_team] += val_orig[player]\n",
    "\n",
    "    for player in val_out:\n",
    "        his_team = player2team[player]\n",
    "        if his_team not in val_team_out:\n",
    "            val_team_out[his_team] = val_out[player]\n",
    "        else:\n",
    "            val_team_out[his_team] += val_out[player]\n",
    "    result = {\"team4\":val_team_out[team4] - val_team_orig[team4],\n",
    "              \"team5\":val_team_out[team5] - val_team_orig[team5],\n",
    "             }\n",
    "    return result"
   ]
  },
  {
   "cell_type": "code",
   "execution_count": 166,
   "metadata": {},
   "outputs": [
    {
     "data": {
      "text/plain": [
       "{2207: 0,\n",
       " 101127: 66.22540712250391,\n",
       " 101161: 40.114758515069056,\n",
       " 201152: 59.060592471590766,\n",
       " 201572: 52.50205454199865,\n",
       " 202340: 79.53915917529508,\n",
       " 202711: 31.99530065704159,\n",
       " 202738: 87.27178645573962,\n",
       " 203096: 20.69309265242798,\n",
       " 203109: 85.16373783848366}"
      ]
     },
     "execution_count": 166,
     "metadata": {},
     "output_type": "execute_result"
    }
   ],
   "source": [
    "get_leave1out_value(players, points, teams, frame_data, 5)"
   ]
  },
  {
   "cell_type": "code",
   "execution_count": 167,
   "metadata": {},
   "outputs": [
    {
     "data": {
      "text/plain": [
       "[101161, 202738, 202340, 203109, 203096, 2207, 101127, 201152, 201572, 202711]"
      ]
     },
     "execution_count": 167,
     "metadata": {},
     "output_type": "execute_result"
    }
   ],
   "source": [
    "players"
   ]
  },
  {
   "cell_type": "code",
   "execution_count": 168,
   "metadata": {},
   "outputs": [
    {
     "data": {
      "text/plain": [
       "{'team4': -39.02770998256406, 'team5': 10.701024382887738}"
      ]
     },
     "execution_count": 168,
     "metadata": {},
     "output_type": "execute_result"
    }
   ],
   "source": [
    "value_of_player(players, points, teams, frame_data, 2207)"
   ]
  },
  {
   "cell_type": "code",
   "execution_count": 169,
   "metadata": {},
   "outputs": [
    {
     "data": {
      "text/plain": [
       "{2207: 49.7287343654518,\n",
       " 101127: 106.68963403965864,\n",
       " 101161: 42.385766850112816,\n",
       " 201152: 98.09645454490811,\n",
       " 201572: 34.78320960313965,\n",
       " 202340: 25.119219484018004,\n",
       " 202711: 38.08390176119042,\n",
       " 202738: 100.95297453244223,\n",
       " 203096: 35.99658203489713,\n",
       " 203109: 97.37990672955999}"
      ]
     },
     "execution_count": 169,
     "metadata": {},
     "output_type": "execute_result"
    }
   ],
   "source": [
    "frame_result = {}\n",
    "for player in players:\n",
    "    val = value_of_player(players, points, teams, frame_data, player)\n",
    "    frame_result[player] = np.abs(val['team4']) + np.abs(val['team5'])\n",
    "\n",
    "frame_result"
   ]
  },
  {
   "cell_type": "code",
   "execution_count": 170,
   "metadata": {},
   "outputs": [
    {
     "data": {
      "image/png": "[encoded data removed]",
      "text/plain": [
       "<matplotlib.figure.Figure at 0x7f7264813390>"
      ]
     },
     "metadata": {},
     "output_type": "display_data"
    }
   ],
   "source": [
    "vor = Voronoi(points)\n",
    "voronoi_plot_2d(vor, show_vertices=0)\n",
    "\n",
    "size_circ = []\n",
    "color_circ = []\n",
    "team2color = {}\n",
    "flag = False\n",
    "for team in teams:\n",
    "    team2color[team] = 'r' if not flag else 'b'\n",
    "    flag = True\n",
    "\n",
    "for i in range(10):\n",
    "    player = players[i]\n",
    "    val = frame_result[player]\n",
    "    size_circ.append(val)\n",
    "    color_circ.append(team2color[get_player_team(player, teams, frame_data)])\n",
    "    \n",
    "size_circ = [x*10 for x in size_circ]\n",
    "\n",
    "draw_court(color='#ffdd99',outer_lines=True)\n",
    "plt.xlim(0,50)\n",
    "plt.ylim(0,50)\n",
    "\n",
    "plt.scatter(points[:,0], points[:,1], s=size_circ, c=color_circ, alpha=0.25)\n",
    "plt.xlim(0, 50)\n",
    "plt.ylim(0, 50)\n",
    "plt.gcf().set_size_inches(10, 10, forward=True)\n",
    "plt.show()"
   ]
  },
  {
   "cell_type": "code",
   "execution_count": null,
   "metadata": {},
   "outputs": [],
   "source": []
  }
 ],
 "metadata": {
  "kernelspec": {
   "display_name": "Python 3",
   "language": "python",
   "name": "python3"
  },
  "language_info": {
   "codemirror_mode": {
    "name": "ipython",
    "version": 3
   },
   "file_extension": ".py",
   "mimetype": "text/x-python",
   "name": "python",
   "nbconvert_exporter": "python",
   "pygments_lexer": "ipython3",
   "version": "3.6.4"
  }
 },
 "nbformat": 4,
 "nbformat_minor": 2
}
